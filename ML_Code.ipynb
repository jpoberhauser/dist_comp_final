{
 "cells": [
  {
   "cell_type": "code",
   "execution_count": 1,
   "metadata": {
    "collapsed": false
   },
   "outputs": [
    {
     "name": "stdout",
     "output_type": "stream",
     "text": [
      "download: s3://msan694-group/final_nba.csv to ./final_nba.csv\r\n"
     ]
    }
   ],
   "source": [
    "!aws s3 cp s3://msan694-group/final_nba.csv final_nba.csv\n",
    "from pyspark.ml.linalg import Vectors, VectorUDT\n",
    "from pyspark.ml.evaluation import MulticlassClassificationEvaluator\n",
    "from pyspark.ml.classification import GBTClassifier\n",
    "from pyspark.ml import Pipeline"
   ]
  },
  {
   "cell_type": "code",
   "execution_count": 2,
   "metadata": {
    "collapsed": false
   },
   "outputs": [
    {
     "ename": "NameError",
     "evalue": "name 'sc' is not defined",
     "output_type": "error",
     "traceback": [
      "\u001b[0;31m---------------------------------------------------------------------------\u001b[0m",
      "\u001b[0;31mNameError\u001b[0m                                 Traceback (most recent call last)",
      "\u001b[0;32m<ipython-input-2-c6b6609166b5>\u001b[0m in \u001b[0;36m<module>\u001b[0;34m()\u001b[0m\n\u001b[0;32m----> 1\u001b[0;31m \u001b[0mrdd_vec\u001b[0m \u001b[0;34m=\u001b[0m \u001b[0msc\u001b[0m\u001b[0;34m.\u001b[0m\u001b[0mtextFile\u001b[0m\u001b[0;34m(\u001b[0m\u001b[0;34m\"final_nba.csv\"\u001b[0m\u001b[0;34m)\u001b[0m\u001b[0;34m\u001b[0m\u001b[0m\n\u001b[0m\u001b[1;32m      2\u001b[0m \u001b[0mrdd_vec\u001b[0m\u001b[0;34m.\u001b[0m\u001b[0mtake\u001b[0m\u001b[0;34m(\u001b[0m\u001b[0;36m5\u001b[0m\u001b[0;34m)\u001b[0m\u001b[0;34m\u001b[0m\u001b[0m\n",
      "\u001b[0;31mNameError\u001b[0m: name 'sc' is not defined"
     ]
    }
   ],
   "source": [
    "rdd_vec = sc.textFile(\"final_nba.csv\")\n",
    "rdd_vec.take(5)"
   ]
  },
  {
   "cell_type": "code",
   "execution_count": 16,
   "metadata": {
    "collapsed": false
   },
   "outputs": [
    {
     "name": "stdout",
     "output_type": "stream",
     "text": [
      "+-----+--------------------+\n",
      "|label|            features|\n",
      "+-----+--------------------+\n",
      "|  1.0|[1.0,2.0,1.9,7.7,...|\n",
      "|  0.0|[2.0,0.0,0.8,28.2...|\n",
      "|  0.0|[3.0,3.0,2.7,10.1...|\n",
      "|  0.0|[4.0,2.0,1.9,17.2...|\n",
      "|  0.0|[5.0,2.0,2.7,3.7,...|\n",
      "|  0.0|[6.0,2.0,4.4,18.4...|\n",
      "|  0.0|[7.0,11.0,9.0,20....|\n",
      "|  1.0|[8.0,3.0,2.5,3.5,...|\n",
      "|  0.0|[9.0,0.0,0.8,24.6...|\n",
      "|  0.0|[1.0,0.0,1.1,22.4...|\n",
      "|  0.0|[2.0,8.0,7.5,24.5...|\n",
      "|  1.0|[3.0,14.0,11.9,14...|\n",
      "|  1.0|[4.0,2.0,2.9,5.9,...|\n",
      "|  0.0|[1.0,0.0,0.8,26.4...|\n",
      "|  0.0|[1.0,0.0,0.5,22.8...|\n",
      "|  1.0|[2.0,3.0,2.7,24.7...|\n",
      "|  0.0|[3.0,6.0,5.1,25.0...|\n",
      "|  0.0|[4.0,1.0,0.9,25.6...|\n",
      "|  1.0|[5.0,0.0,1.2,24.2...|\n",
      "|  0.0|[1.0,2.0,2.2,25.4...|\n",
      "+-----+--------------------+\n",
      "only showing top 20 rows\n",
      "\n"
     ]
    }
   ],
   "source": [
    "rdd_vec = sc.textFile(\"final_nba.csv\")\n",
    "header = rdd_vec.first() #extract header\n",
    "data = rdd_vec.filter(lambda row: row not in header) #filter out the header!\n",
    "new_rdd = data.map(lambda line: line.split(',')) # split the wide vector by \",\"\n",
    "#turn to Vectors.dense (with label out front)\n",
    "split_rdd = new_rdd.map(lambda line: (float(line[0]), Vectors.dense([float(c) for c in line[1:len(line)]]))) \n",
    "#split_rdd = new_rdd.map(lambda line: (float(line[0]), Vectors.dense([float(c) for c in line[1:25000]]))) \n",
    "# Create the DataFrame from the collected RDD\n",
    "full_df = sqlContext.createDataFrame(split_rdd.collect(), [\"label\", \"features\"])\n",
    "full_df.show()"
   ]
  },
  {
   "cell_type": "code",
   "execution_count": 17,
   "metadata": {
    "collapsed": false
   },
   "outputs": [
    {
     "name": "stdout",
     "output_type": "stream",
     "text": [
      "CPU times: user 14.8 ms, sys: 4.69 ms, total: 19.4 ms\n",
      "Wall time: 3.01 s\n"
     ]
    }
   ],
   "source": [
    "%%time\n",
    "(trainingData, testData) = full_df.randomSplit([0.7, 0.3])\n",
    "gbt = GBTClassifier(maxIter=2, maxDepth=2, labelCol=\"label\")\n",
    "pipeline = Pipeline(stages=[gbt])\n",
    "model = pipeline.fit(trainingData)"
   ]
  },
  {
   "cell_type": "code",
   "execution_count": 20,
   "metadata": {
    "collapsed": false
   },
   "outputs": [
    {
     "name": "stdout",
     "output_type": "stream",
     "text": [
      "+----------+-----+--------------------+\n",
      "|prediction|label|            features|\n",
      "+----------+-----+--------------------+\n",
      "|       0.0|  0.0|[1.0,0.0,-0.3,18....|\n",
      "|       1.0|  0.0|[1.0,0.0,0.0,0.1,...|\n",
      "|       1.0|  0.0|[1.0,0.0,0.0,1.5,...|\n",
      "|       0.0|  0.0|[1.0,0.0,0.4,22.2...|\n",
      "|       0.0|  0.0|[1.0,0.0,0.5,22.8...|\n",
      "|       0.0|  0.0|[1.0,0.0,0.5,25.6...|\n",
      "|       0.0|  0.0|[1.0,0.0,0.6,5.0,...|\n",
      "|       0.0|  0.0|[1.0,0.0,0.6,6.6,...|\n",
      "|       0.0|  0.0|[1.0,0.0,0.6,7.6,...|\n",
      "|       0.0|  0.0|[1.0,0.0,0.6,15.3...|\n",
      "|       0.0|  0.0|[1.0,0.0,0.6,17.3...|\n",
      "|       0.0|  0.0|[1.0,0.0,0.6,24.3...|\n",
      "|       0.0|  0.0|[1.0,0.0,0.6,25.1...|\n",
      "|       1.0|  0.0|[1.0,0.0,0.7,2.9,...|\n",
      "|       0.0|  0.0|[1.0,0.0,0.7,6.3,...|\n",
      "|       0.0|  0.0|[1.0,0.0,0.7,6.7,...|\n",
      "|       0.0|  0.0|[1.0,0.0,0.7,17.1...|\n",
      "|       0.0|  0.0|[1.0,0.0,0.7,19.8...|\n",
      "|       0.0|  0.0|[1.0,0.0,0.7,20.3...|\n",
      "|       0.0|  0.0|[1.0,0.0,0.7,22.8...|\n",
      "+----------+-----+--------------------+\n",
      "only showing top 20 rows\n",
      "\n"
     ]
    }
   ],
   "source": [
    "# Make predictions.\n",
    "predictions = model.transform(testData)\n",
    "predictions.select(\"prediction\", \"label\", \"features\").show(20)"
   ]
  },
  {
   "cell_type": "code",
   "execution_count": 21,
   "metadata": {
    "collapsed": false
   },
   "outputs": [
    {
     "name": "stdout",
     "output_type": "stream",
     "text": [
      "Accuracy = 58.127\n"
     ]
    }
   ],
   "source": [
    "evaluator = MulticlassClassificationEvaluator(\n",
    "    labelCol=\"label\", predictionCol=\"prediction\")\n",
    "accuracy = evaluator.evaluate(predictions)\n",
    "print(\"Accuracy = %g\" % (accuracy*100))"
   ]
  },
  {
   "cell_type": "code",
   "execution_count": null,
   "metadata": {
    "collapsed": true
   },
   "outputs": [],
   "source": []
  }
 ],
 "metadata": {
  "kernelspec": {
   "display_name": "Python 2",
   "language": "python",
   "name": "python2"
  },
  "language_info": {
   "codemirror_mode": {
    "name": "ipython",
    "version": 2
   },
   "file_extension": ".py",
   "mimetype": "text/x-python",
   "name": "python",
   "nbconvert_exporter": "python",
   "pygments_lexer": "ipython2",
   "version": "2.7.10"
  }
 },
 "nbformat": 4,
 "nbformat_minor": 0
}
